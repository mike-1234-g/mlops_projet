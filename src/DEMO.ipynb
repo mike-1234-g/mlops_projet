{
 "cells": [
  {
   "cell_type": "markdown",
   "metadata": {},
   "source": [
    "# DEMO"
   ]
  },
  {
   "cell_type": "markdown",
   "metadata": {},
   "source": [
    "## Import librairies"
   ]
  },
  {
   "cell_type": "code",
   "execution_count": 8,
   "metadata": {},
   "outputs": [],
   "source": [
    "import os\n",
    "import sys\n",
    "import pandas as pd\n",
    "import mlflow\n",
    "from dotenv import load_dotenv\n",
    "load_dotenv()\n",
    "wd = os.getenv(\"working_directory\")\n",
    "sys.path.append(f'{wd}/src/fonctions')\n",
    "from fonctions.fonctions_gen_dataframe import load_train_by_year, load_train_concat_year, load_predict_for_year\n",
    "from fonctions.fonctions_mlflow_tracking import train_and_track_models, clear_experiment_runs\n",
    "from fonctions.fonctions_mlflow_prediction import predict, get_experiment\n"
   ]
  },
  {
   "cell_type": "markdown",
   "metadata": {},
   "source": [
    "## Generation des datasets"
   ]
  },
  {
   "cell_type": "code",
   "execution_count": 9,
   "metadata": {},
   "outputs": [],
   "source": [
    "# Generation datasets de train par année. Dans le répertoire mlops_projet/data/train_data_year\n",
    "load_train_by_year()\n",
    "# Generation datasets concat pour année. de 1992 à 1993, de 1992 à 1994, ..., de 1992 à 2022. Dans le répertoire mlops_projet/data/train_concat_year\n",
    "load_train_concat_year()\n",
    "# Generation datasets pour les prédictions. 2021, 2022 et 2023. Dans le répertoire mlops_projet/data/predict_year\n",
    "years = [2021, 2022, 2023]\n",
    "load_predict_for_year(years)"
   ]
  },
  {
   "cell_type": "markdown",
   "metadata": {},
   "source": [
    "## Entraînement des modeles et Tracking grâce à MLFLOW"
   ]
  },
  {
   "cell_type": "code",
   "execution_count": 10,
   "metadata": {},
   "outputs": [
    {
     "name": "stdout",
     "output_type": "stream",
     "text": [
      "DKHousing_1992_2020\n"
     ]
    },
    {
     "name": "stderr",
     "output_type": "stream",
     "text": [
      "/Users/alexanderlunel/Documents/LILLE/Master/MasterSIAD/M2/MLOps/PROJET/mlopsvenv/lib/python3.9/site-packages/mlflow/types/utils.py:435: UserWarning: Hint: Inferred schema contains integer column(s). Integer columns in Python cannot represent missing values. If your input data contains missing values at inference time, it will be encoded as floats and will cause a schema enforcement error. The best way to avoid this problem is to infer the model schema based on a realistic data sample (training dataset) that includes missing values. Alternatively, you can declare integer columns as doubles (float64) whenever these columns may have missing values. See `Handling Integers With Missing Values <https://www.mlflow.org/docs/latest/models.html#handling-integers-with-missing-values>`_ for more details.\n",
      "  warnings.warn(\n"
     ]
    },
    {
     "name": "stdout",
     "output_type": "stream",
     "text": [
      "RFR_DKHousing_1992_2020 \n",
      " GridSearchCV(cv=4, estimator=RandomForestRegressor(random_state=42), n_jobs=6,\n",
      "             param_grid={'bootstrap': [False],\n",
      "                         'criterion': ['squared_error', 'friedman_mse'],\n",
      "                         'max_depth': [20, 30], 'max_features': ['sqrt'],\n",
      "                         'min_samples_split': [3, 4, 5],\n",
      "                         'n_estimators': [200]},\n",
      "             scoring='r2') \n",
      " {'bootstrap': False, 'ccp_alpha': 0.0, 'criterion': 'friedman_mse', 'max_depth': 20, 'max_features': 'sqrt', 'max_leaf_nodes': None, 'max_samples': None, 'min_impurity_decrease': 0.0, 'min_samples_leaf': 1, 'min_samples_split': 5, 'min_weight_fraction_leaf': 0.0, 'monotonic_cst': None, 'n_estimators': 200, 'n_jobs': None, 'oob_score': False, 'random_state': 42, 'verbose': 0, 'warm_start': False} \n",
      " {'R2': 0.47234773432133814, 'RMSE': 1238139.4034899913, 'MAE': 684416.0287101041, 'MAPE': 56.071405000143606}\n",
      "Run ID: 5e69da3f8673417d9707dd2e5f7fb3e7\n",
      "DKHousing_1992_2021\n"
     ]
    },
    {
     "name": "stderr",
     "output_type": "stream",
     "text": [
      "/Users/alexanderlunel/Documents/LILLE/Master/MasterSIAD/M2/MLOps/PROJET/mlopsvenv/lib/python3.9/site-packages/mlflow/types/utils.py:435: UserWarning: Hint: Inferred schema contains integer column(s). Integer columns in Python cannot represent missing values. If your input data contains missing values at inference time, it will be encoded as floats and will cause a schema enforcement error. The best way to avoid this problem is to infer the model schema based on a realistic data sample (training dataset) that includes missing values. Alternatively, you can declare integer columns as doubles (float64) whenever these columns may have missing values. See `Handling Integers With Missing Values <https://www.mlflow.org/docs/latest/models.html#handling-integers-with-missing-values>`_ for more details.\n",
      "  warnings.warn(\n"
     ]
    },
    {
     "name": "stdout",
     "output_type": "stream",
     "text": [
      "RFR_DKHousing_1992_2021 \n",
      " GridSearchCV(cv=4, estimator=RandomForestRegressor(random_state=42), n_jobs=6,\n",
      "             param_grid={'bootstrap': [False],\n",
      "                         'criterion': ['squared_error', 'friedman_mse'],\n",
      "                         'max_depth': [20, 30], 'max_features': ['sqrt'],\n",
      "                         'min_samples_split': [3, 4, 5],\n",
      "                         'n_estimators': [200]},\n",
      "             scoring='r2') \n",
      " {'bootstrap': False, 'ccp_alpha': 0.0, 'criterion': 'friedman_mse', 'max_depth': 20, 'max_features': 'sqrt', 'max_leaf_nodes': None, 'max_samples': None, 'min_impurity_decrease': 0.0, 'min_samples_leaf': 1, 'min_samples_split': 5, 'min_weight_fraction_leaf': 0.0, 'monotonic_cst': None, 'n_estimators': 200, 'n_jobs': None, 'oob_score': False, 'random_state': 42, 'verbose': 0, 'warm_start': False} \n",
      " {'R2': 0.5116782248113787, 'RMSE': 1222681.6544049443, 'MAE': 694339.5235395661, 'MAPE': 54.488822463328056}\n",
      "Run ID: a9eacd6f3659411aa1f57e4e7548265d\n",
      "DKHousing_1992_2022\n"
     ]
    },
    {
     "name": "stderr",
     "output_type": "stream",
     "text": [
      "/Users/alexanderlunel/Documents/LILLE/Master/MasterSIAD/M2/MLOps/PROJET/mlopsvenv/lib/python3.9/site-packages/mlflow/types/utils.py:435: UserWarning: Hint: Inferred schema contains integer column(s). Integer columns in Python cannot represent missing values. If your input data contains missing values at inference time, it will be encoded as floats and will cause a schema enforcement error. The best way to avoid this problem is to infer the model schema based on a realistic data sample (training dataset) that includes missing values. Alternatively, you can declare integer columns as doubles (float64) whenever these columns may have missing values. See `Handling Integers With Missing Values <https://www.mlflow.org/docs/latest/models.html#handling-integers-with-missing-values>`_ for more details.\n",
      "  warnings.warn(\n"
     ]
    },
    {
     "name": "stdout",
     "output_type": "stream",
     "text": [
      "RFR_DKHousing_1992_2022 \n",
      " GridSearchCV(cv=4, estimator=RandomForestRegressor(random_state=42), n_jobs=6,\n",
      "             param_grid={'bootstrap': [False],\n",
      "                         'criterion': ['squared_error', 'friedman_mse'],\n",
      "                         'max_depth': [20, 30], 'max_features': ['sqrt'],\n",
      "                         'min_samples_split': [3, 4, 5],\n",
      "                         'n_estimators': [200]},\n",
      "             scoring='r2') \n",
      " {'bootstrap': False, 'ccp_alpha': 0.0, 'criterion': 'squared_error', 'max_depth': 20, 'max_features': 'sqrt', 'max_leaf_nodes': None, 'max_samples': None, 'min_impurity_decrease': 0.0, 'min_samples_leaf': 1, 'min_samples_split': 5, 'min_weight_fraction_leaf': 0.0, 'monotonic_cst': None, 'n_estimators': 200, 'n_jobs': None, 'oob_score': False, 'random_state': 42, 'verbose': 0, 'warm_start': False} \n",
      " {'R2': 0.5198119313647839, 'RMSE': 1217863.6282995918, 'MAE': 706788.4248720035, 'MAPE': 55.07642766510492}\n",
      "Run ID: ae56381ba24246cb85551f458c74aca4\n"
     ]
    }
   ],
   "source": [
    "# L'exécution de cette fonction prend du temps (15/20 minutes). L'entiereté des modèles sont deja dans le répertoire mlops_projet/src/fonctions/mlruns\n",
    "\n",
    "# Le serveur Mlflow peut être executé sans lancer ces commandes python car les modèles sont deja chargés dans mlruns\n",
    "\n",
    "#Si vous lancez les commandes, les runs précedents seront supprimés et il faudra attendre la fin de l'execution pour consulter les modèles sur l'application MLFLOW\n",
    "\n",
    "mlruns_path = f\"{wd}/src/fonctions/mlruns\"\n",
    "experiment_id = get_experiment()\n",
    "clear_experiment_runs(experiment_id, mlruns_path)\n",
    "train_and_track_models()"
   ]
  },
  {
   "cell_type": "markdown",
   "metadata": {},
   "source": [
    "### Lancement du Serveur MLFLOW pour consulter les modèles"
   ]
  },
  {
   "cell_type": "markdown",
   "metadata": {},
   "source": [
    "Exécuter le script launch_server.sh.\n",
    "\n",
    "Si l'utilisateur ne peut pas lancer le script bash car sur windows par exemple: \n",
    "\n",
    "executer la commande suivante \"mlflow server --host localhost --port 5000 --backend-store-uri file:<absolute/path/to/mlops_projet>/src/fonctions/mlruns\"\n"
   ]
  },
  {
   "cell_type": "markdown",
   "metadata": {},
   "source": [
    "## Predictions"
   ]
  },
  {
   "cell_type": "code",
   "execution_count": 11,
   "metadata": {},
   "outputs": [
    {
     "name": "stdout",
     "output_type": "stream",
     "text": [
      "Modèle (Run ID: 5e69da3f8673417d9707dd2e5f7fb3e7) chargé avec succès !\n",
      "    house_type    sales_type  year_build  no_rooms    sqm                area   region  nom_interest_rate%  dk_ann_infl_rate%  yield_on_mortgage_credit_bonds%  Mois   Annee Quarter  Anciennete  Prediction_2021\n",
      "0        Villa  regular_sale      2022.0       7.0  197.0       South jutland  Jutland                 0.0               1.85                             1.47  12.0  2021.0      Q4        -1.0     1.216001e+06\n",
      "1         Farm   family_sale      1984.0      10.0  339.0       Other islands  Zealand                 0.0               1.85                             1.47  12.0  2021.0      Q4        37.0     7.254849e+06\n",
      "2        Villa  regular_sale      1971.0      10.0  215.0  East & mid jutland  Jutland                 0.0               1.85                             1.47  12.0  2021.0      Q4        50.0     3.120336e+06\n",
      "3    Apartment   family_sale      1963.0       4.0   87.0       South jutland  Jutland                 0.0               1.85                             1.47  12.0  2021.0      Q4        58.0     1.686920e+06\n",
      "4  Summerhouse   family_sale      1964.0       3.0   65.0       North Zealand  Zealand                 0.0               1.85                             1.47  12.0  2021.0      Q4        57.0     9.963435e+05\n",
      "Modèle (Run ID: a9eacd6f3659411aa1f57e4e7548265d) chargé avec succès !\n",
      "    house_type    sales_type  year_build  no_rooms    sqm           area         region  nom_interest_rate%  dk_ann_infl_rate%  yield_on_mortgage_credit_bonds%  Mois   Annee Quarter  Anciennete  Prediction_2022\n",
      "0        Villa  regular_sale      1827.0       4.0  110.0  Fyn & islands  Fyn & islands                0.65                7.7                             3.73  12.0  2022.0      Q4       195.0     9.749730e+05\n",
      "1         Farm  regular_sale      1987.0       4.0  109.0  South jutland        Jutland                0.65                7.7                             3.73  12.0  2022.0      Q4        35.0     2.024748e+06\n",
      "2  Summerhouse   family_sale      1988.0       4.0   91.0  South jutland        Jutland                0.65                7.7                             3.73  12.0  2022.0      Q4        34.0     1.134688e+06\n",
      "3        Villa  regular_sale      1927.0       4.0   64.0  South jutland        Jutland                0.65                7.7                             3.73  12.0  2022.0      Q4        95.0     9.633580e+05\n",
      "4    Apartment    other_sale      2007.0       4.0  102.0  North Zealand        Zealand                0.65                7.7                             3.73  12.0  2022.0      Q4        15.0     2.471952e+06\n",
      "Modèle (Run ID: ae56381ba24246cb85551f458c74aca4) chargé avec succès !\n",
      "    house_type    sales_type  year_build  no_rooms    sqm                 area   region  nom_interest_rate%  dk_ann_infl_rate%  yield_on_mortgage_credit_bonds%  Mois   Annee Quarter  Anciennete  Prediction_2023\n",
      "0    Apartment  regular_sale      1943.0       5.0  132.0        South jutland  Jutland                 3.6               3.31                             4.79  12.0  2023.0      Q4        80.0     2.274842e+06\n",
      "1        Villa  regular_sale      1986.0       6.0  193.0        North jutland  Jutland                 3.6               3.31                             4.79  12.0  2023.0      Q4        37.0     1.940979e+06\n",
      "2    Apartment   family_sale      1917.0       4.0  166.0  Capital, Copenhagen  Zealand                 3.6               3.31                             4.79  12.0  2023.0      Q4       106.0     3.849858e+06\n",
      "3        Villa  regular_sale      1956.0       3.0  117.0        South jutland  Jutland                 3.6               3.31                             4.79  12.0  2023.0      Q4        67.0     1.006447e+06\n",
      "4  Summerhouse  regular_sale      1974.0       4.0   62.0        North jutland  Jutland                 3.6               3.31                             4.79  12.0  2023.0      Q4        49.0     9.396654e+05\n"
     ]
    }
   ],
   "source": [
    "# Prédictions sur les données .parquet des années 2021, 2022 et 2023. La prediction de 2021 se fait avec le modele de 2020\n",
    "# Chargement des dataframes de prediction dans le repertoire mlops_projet/data/prediction_year\n",
    "\n",
    "for year in [2021, 2022, 2023]:\n",
    "        predict(year)"
   ]
  }
 ],
 "metadata": {
  "kernelspec": {
   "display_name": "mlopsvenv",
   "language": "python",
   "name": "python3"
  },
  "language_info": {
   "codemirror_mode": {
    "name": "ipython",
    "version": 3
   },
   "file_extension": ".py",
   "mimetype": "text/x-python",
   "name": "python",
   "nbconvert_exporter": "python",
   "pygments_lexer": "ipython3",
   "version": "3.9.19"
  }
 },
 "nbformat": 4,
 "nbformat_minor": 2
}
